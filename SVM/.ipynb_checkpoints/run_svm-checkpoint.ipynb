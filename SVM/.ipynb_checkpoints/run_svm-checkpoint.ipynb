{
 "cells": [
  {
   "cell_type": "code",
   "execution_count": 1,
   "metadata": {
    "collapsed": true
   },
   "outputs": [],
   "source": [
    "import sklearn .svm\n",
    "import numpy as np\n",
    "from dataset import fer2013\n",
    "#from PCA import PCA_dim_red\n",
    "import numpy as np\n",
    "import scipy\n",
    "import os\n",
    "from sklearn.model_selection import KFold\n",
    "from sklearn.model_selection import GridSearchCV\n",
    "import pickle"
   ]
  },
  {
   "cell_type": "code",
   "execution_count": 2,
   "metadata": {
    "collapsed": true
   },
   "outputs": [],
   "source": [
    "def PCA_dim_red(train_x,val_x,test_x,var):\n",
    "    # Dimensionality Reduction\n",
    "    m = train_x.shape[0]\n",
    "    n = train_x.shape[1]\n",
    "\n",
    "    Mu = np.mean(train_x, axis=0)\n",
    "    print(Mu.shape)\n",
    "    train_x = train_x - Mu\n",
    "\n",
    "    Sigma = (train_x.T).dot(train_x) / (m - 1)\n",
    "    U, S, V = np.linalg.svd(Sigma)\n",
    "\n",
    "    # first 253 components maintain 95% variance\n",
    "    # first 881 components maintain 99% variance\n",
    "    tr = 0\n",
    "    k=1\n",
    "    while tr < var:\n",
    "        tr = np.sum(S[:k])/np.sum(S)\n",
    "        k+=1\n",
    "    print('Using k = '+str(k)+', '+str(tr)+' of the variance was retained')\n",
    "    V = V[:,:k]\n",
    "    Train_x = train_x.dot(V)\n",
    "    Val_x = val_x.dot(V)\n",
    "    Test_x = test_x.dot(V)\n",
    "    return Train_x,Val_x,Test_x"
   ]
  },
  {
   "cell_type": "code",
   "execution_count": null,
   "metadata": {
    "collapsed": true
   },
   "outputs": [],
   "source": [
    "print(\"Importing data\")\n",
    "(train_x, train_y), (val_x,val_y), (test_x, test_y) = fer2013()"
   ]
  },
  {
   "cell_type": "code",
   "execution_count": 3,
   "metadata": {},
   "outputs": [
    {
     "name": "stdout",
     "output_type": "stream",
     "text": [
      "Importing data\n"
     ]
    },
    {
     "ename": "IndexError",
     "evalue": "tuple index out of range",
     "output_type": "error",
     "traceback": [
      "\u001b[1;31m---------------------------------------------------------------------------\u001b[0m",
      "\u001b[1;31mIndexError\u001b[0m                                Traceback (most recent call last)",
      "\u001b[1;32m<ipython-input-3-081109610499>\u001b[0m in \u001b[0;36m<module>\u001b[1;34m()\u001b[0m\n\u001b[0;32m      5\u001b[0m \u001b[1;31m# making data ready for PCA also\u001b[0m\u001b[1;33m\u001b[0m\u001b[1;33m\u001b[0m\u001b[0m\n\u001b[0;32m      6\u001b[0m \u001b[0mvar\u001b[0m \u001b[1;33m=\u001b[0m \u001b[1;36m0.99\u001b[0m\u001b[1;33m\u001b[0m\u001b[0m\n\u001b[1;32m----> 7\u001b[1;33m \u001b[0mTrain_x\u001b[0m\u001b[1;33m,\u001b[0m\u001b[0mVal_x\u001b[0m\u001b[1;33m,\u001b[0m\u001b[0mTest_x\u001b[0m \u001b[1;33m=\u001b[0m \u001b[0mPCA_dim_red\u001b[0m\u001b[1;33m(\u001b[0m\u001b[0mtrain_x\u001b[0m\u001b[1;33m,\u001b[0m\u001b[0mval_x\u001b[0m\u001b[1;33m,\u001b[0m\u001b[0mtest_x\u001b[0m\u001b[1;33m,\u001b[0m\u001b[0mvar\u001b[0m\u001b[1;33m)\u001b[0m\u001b[1;33m\u001b[0m\u001b[0m\n\u001b[0m\u001b[0;32m      8\u001b[0m \u001b[1;33m\u001b[0m\u001b[0m\n\u001b[0;32m      9\u001b[0m \u001b[0mtrain_x\u001b[0m \u001b[1;33m=\u001b[0m \u001b[0mnp\u001b[0m\u001b[1;33m.\u001b[0m\u001b[0mappend\u001b[0m\u001b[1;33m(\u001b[0m\u001b[0mtrain_x\u001b[0m\u001b[1;33m,\u001b[0m \u001b[0mval_x\u001b[0m\u001b[1;33m)\u001b[0m\u001b[1;33m\u001b[0m\u001b[0m\n",
      "\u001b[1;32m<ipython-input-2-9dd0f8f6356d>\u001b[0m in \u001b[0;36mPCA_dim_red\u001b[1;34m(train_x, val_x, test_x, var)\u001b[0m\n\u001b[0;32m      2\u001b[0m     \u001b[1;31m# Dimensionality Reduction\u001b[0m\u001b[1;33m\u001b[0m\u001b[1;33m\u001b[0m\u001b[0m\n\u001b[0;32m      3\u001b[0m     \u001b[0mm\u001b[0m \u001b[1;33m=\u001b[0m \u001b[0mtrain_x\u001b[0m\u001b[1;33m.\u001b[0m\u001b[0mshape\u001b[0m\u001b[1;33m[\u001b[0m\u001b[1;36m0\u001b[0m\u001b[1;33m]\u001b[0m\u001b[1;33m\u001b[0m\u001b[0m\n\u001b[1;32m----> 4\u001b[1;33m     \u001b[0mn\u001b[0m \u001b[1;33m=\u001b[0m \u001b[0mtrain_x\u001b[0m\u001b[1;33m.\u001b[0m\u001b[0mshape\u001b[0m\u001b[1;33m[\u001b[0m\u001b[1;36m1\u001b[0m\u001b[1;33m]\u001b[0m\u001b[1;33m\u001b[0m\u001b[0m\n\u001b[0m\u001b[0;32m      5\u001b[0m \u001b[1;33m\u001b[0m\u001b[0m\n\u001b[0;32m      6\u001b[0m     \u001b[0mMu\u001b[0m \u001b[1;33m=\u001b[0m \u001b[0mnp\u001b[0m\u001b[1;33m.\u001b[0m\u001b[0mmean\u001b[0m\u001b[1;33m(\u001b[0m\u001b[0mtrain_x\u001b[0m\u001b[1;33m,\u001b[0m \u001b[0maxis\u001b[0m\u001b[1;33m=\u001b[0m\u001b[1;36m0\u001b[0m\u001b[1;33m)\u001b[0m\u001b[1;33m\u001b[0m\u001b[0m\n",
      "\u001b[1;31mIndexError\u001b[0m: tuple index out of range"
     ]
    }
   ],
   "source": [
    "print(train_x)\n",
    "# making data ready for PCA also\n",
    "var = 0.99\n",
    "Train_x,Val_x,Test_x = PCA_dim_red(train_x,val_x,test_x,var)\n",
    "\n",
    "train_x = np.append(train_x, val_x)\n",
    "train_y = np.append(train_y, val_y)\n",
    "train_y = np.ravel(train_y)\n",
    "test_y = np.ravel(test_y)\n",
    "\n",
    "print(\"Data Ready, initiating training\")"
   ]
  },
  {
   "cell_type": "code",
   "execution_count": null,
   "metadata": {
    "collapsed": true
   },
   "outputs": [],
   "source": [
    "#######SVMs without Dimensionality reduction\n",
    "\n",
    "kf = KFold(n_splits=10)\n",
    "\n",
    "vals_y = np.array([])\n",
    "Poly_preds_y = np.array([])\n",
    "Gaussian_preds_y = np.array([])\n",
    "\n",
    "SVM1 = sklearn.svm.SVC(C=25.0, kernel='poly', coef0=1.0)\n",
    "SVM2 = sklearn.svm.SVC(C=25.0, kernel='rbf')\n",
    "\n",
    "for train_idx, val_idx in kf.split(train_x):\n",
    "    print(k)\n",
    "    X_train, X_val = train_x[train_idx], train_x[val_idx]\n",
    "    y_train, y_val = train_y[train_idx], train_y[val_idx]\n",
    "    \n",
    "    SVM1.fit(X_train, y_train)\n",
    "    SVM2.fit(X_train, y_train)\n",
    "    Poly_pred_y = SVM1.predict(X_val)\n",
    "    Gaussian_pred_y = SVM2.predict(X_val)    \n",
    "        \n",
    "    vals_y = np.append(vals_y, y_val)\n",
    "    Poly_preds_y = np.append(Poly_preds_y, Poly_pred_y)\n",
    "    Gaussian_preds_y = np.append(Gaussian_preds_y, Gaussian_pred_y)\n",
    "\n",
    "# print(\"Truth: \" + str(vals_y))\n",
    "# print(\"Poly SVM: \" + str(Poly_preds_y))\n",
    "# print(\"Gaussian SVM: \" + str(Gaussian_preds_y))\n",
    "\n",
    "print('---------------------------- SVM Polynomial----------------------------------------------')\n",
    "train_accuracy = np.mean(Poly_preds_y == vals_y)\n",
    "print(\"SVM train accuracy : \" + str(train_accuracy))\n",
    "\n",
    "preds_ty = np.ravel(SVM1.predict(test_x))\n",
    "test_accuracy = np.mean(preds_ty == test_y)\n",
    "print(\"SVM test accuracy : \" + str(test_accuracy))\n",
    "\n",
    "# print(\"Truth : \" + str(test_y))\n",
    "# print(\"Preds : \" + str(preds_ty))\n",
    "\n",
    "print('---------------------------- SVM Gauusian-------------------------------------------------')\n",
    "train_accuracy = np.mean(Gaussian_preds_y == vals_y)\n",
    "print(\"SVM train accuracy : \" + str(train_accuracy))\n",
    "\n",
    "preds_ty = np.ravel(SVM2.predict(test_x))\n",
    "test_accuracy = np.mean(preds_ty == test_y)\n",
    "print(\"SVM test accuracy : \" + str(test_accuracy))\n",
    "\n",
    "# print(\"Truth : \" + str(test_y))\n",
    "# print(\"Preds : \" + str(preds_ty))"
   ]
  },
  {
   "cell_type": "code",
   "execution_count": null,
   "metadata": {
    "collapsed": true
   },
   "outputs": [],
   "source": [
    "########SVMs with Dimensionality Reduction\n",
    "\n",
    "vals_y = []\n",
    "Poly_preds_y = []\n",
    "Gaussian_preds_y = []\n",
    "\n",
    "SVM1 = sklearn.svm.SVC(C=25.0, kernel='poly', coef0=1.0)\n",
    "SVM2 = sklearn.svm.SVC(C=25.0, kernel='rbf')\n",
    "\n",
    "Train_x = np.append(Train_x, Val_x)\n",
    "\n",
    "\n",
    "for train_idx, val_idx in kf.split(train_x):\n",
    "    X_train, X_val = train_x[train_idx], train_x[val_idx]\n",
    "    y_train, y_val = train_y[train_idx], train_y[val_idx]\n",
    "    \n",
    "    SVM1.fit(X_train, y_train)\n",
    "    SVM2.fit(X_train, y_train)\n",
    "    Poly_pred_y = SVM1.predict(X_val)\n",
    "    Gaussian_pred_y = SVM2.predict(X_val)    \n",
    "    \n",
    "    vals_y = np.append(vals_y, y_val)\n",
    "    Poly_preds_y = np.append(Poly_preds_y, Poly_pred_y)\n",
    "    Gaussian_preds_y = np.append(Gaussian_preds_y, Gaussian_pred_y)\n",
    "\n",
    "# print(\"Truth: \" + str(vals_y))\n",
    "# print(\"Poly SVM: \" + str(Poly_preds_y))\n",
    "# print(\"Gaussian SVM: \" + str(Gaussian_preds_y))\n",
    "\n",
    "print('------------------------- SVM Polynomial with PCA----------------------------------------------')\n",
    "train_accuracy = np.mean(Poly_preds_y == vals_y)\n",
    "print(\"SVM train accuracy : \" + str(train_accuracy))\n",
    "\n",
    "preds_ty = np.ravel(SVM1.predict(test_x))\n",
    "test_accuracy = np.mean(preds_ty == test_y)\n",
    "print(\"SVM test accuracy : \" + str(test_accuracy))\n",
    "\n",
    "# print(\"Truth : \" + str(test_y))\n",
    "# print(\"Preds : \" + str(preds_ty))\n",
    "\n",
    "print('--------------------------SVM Gauusian with PCA-------------------------------------------------')\n",
    "train_accuracy = np.mean(Gaussian_preds_y == vals_y)\n",
    "print(\"SVM train accuracy : \" + str(train_accuracy))\n",
    "\n",
    "preds_ty = np.ravel(SVM2.predict(test_x))\n",
    "test_accuracy = np.mean(preds_ty == test_y)\n",
    "print(\"SVM test accuracy : \" + str(test_accuracy))\n",
    "\n",
    "# print(\"Truth : \" + str(test_y))\n",
    "# print(\"Preds : \" + str(preds_ty))"
   ]
  }
 ],
 "metadata": {
  "kernelspec": {
   "display_name": "Python 3",
   "language": "python",
   "name": "python3"
  },
  "language_info": {
   "codemirror_mode": {
    "name": "ipython",
    "version": 3
   },
   "file_extension": ".py",
   "mimetype": "text/x-python",
   "name": "python",
   "nbconvert_exporter": "python",
   "pygments_lexer": "ipython3",
   "version": "3.6.2"
  }
 },
 "nbformat": 4,
 "nbformat_minor": 2
}
