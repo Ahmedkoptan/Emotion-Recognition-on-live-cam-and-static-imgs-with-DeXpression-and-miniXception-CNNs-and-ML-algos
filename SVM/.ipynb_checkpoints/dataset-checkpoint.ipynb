{
 "cells": [
  {
   "cell_type": "code",
   "execution_count": 10,
   "metadata": {
    "collapsed": true
   },
   "outputs": [],
   "source": [
    "import numpy as np\n",
    "import pandas as pd\n",
    "import os"
   ]
  },
  {
   "cell_type": "code",
   "execution_count": null,
   "metadata": {},
   "outputs": [],
   "source": [
    "train_x = np.array([])\n",
    "test_x = np.array([])\n",
    "val_x = np.array([])\n",
    "train_y = np.array([])\n",
    "test_y = np.array([])\n",
    "val_y = np.array([])\n",
    "\n",
    "for i in range(len(train)):\n",
    "    train_x = np.append(train_x, np.array((train.iloc[i]['pixels']).split(\" \"), dtype=np.int16)) \n",
    "    train_y = np.append(train_y, int(train.iloc[i]['emotion']))\n",
    "print(\"Training data ready\")\n",
    "\n",
    "del(train)\n",
    "    \n",
    "for i in range(len(test)):\n",
    "    test_x = np.append(test_x, np.array((test.iloc[i]['pixels']).split(\" \"), dtype=np.int16)) \n",
    "    test_y = np.append(test_y, int(test.iloc[i]['emotion']))\n",
    "print(\"Testing data ready\")\n",
    "\n",
    "del(test)\n",
    "    \n",
    "for i in range(len(val)):\n",
    "    val_x = np.append(val_x, np.array((val.iloc[i]['pixels']).split(\" \"), dtype=np.int16)) \n",
    "    val_y = np.append(val_y, int(val.iloc[i]['emotion']))\n",
    "print(\"Validation data ready\")\n",
    "del(val)"
   ]
  },
  {
   "cell_type": "code",
   "execution_count": null,
   "metadata": {
    "collapsed": true
   },
   "outputs": [],
   "source": [
    "print(train_x)"
   ]
  },
  {
   "cell_type": "code",
   "execution_count": null,
   "metadata": {
    "collapsed": true
   },
   "outputs": [],
   "source": [
    "def fer2013():\n",
    "    data = pd.read_csv('../Dataset/fer2013/fer2013.csv')\n",
    "    train = data[data['Usage'] == 'Training']\n",
    "    test = data[data['Usage'] == 'PublicTest']\n",
    "    val = data[data['Usage'] == 'PrivateTest']\n",
    "    del(data)\n",
    "    train_x = np.array([])\n",
    "    test_x = np.array([])\n",
    "    val_x = np.array([])\n",
    "    train_y = np.array([])\n",
    "    test_y = np.array([])\n",
    "    val_y = np.array([])\n",
    "\n",
    "    for i in range(len(train)):\n",
    "        train_x = np.append(train_x, np.array((train.iloc[i]['pixels']).split(\" \"), dtype=np.int16)) \n",
    "        train_y = np.append(train_y, int(train.iloc[i]['emotion']))\n",
    "    print(\"Training data ready\")\n",
    "    \n",
    "    del(train)\n",
    "\n",
    "    for i in range(len(test)):\n",
    "        test_x = np.append(test_x, np.array((test.iloc[i]['pixels']).split(\" \"), dtype=np.int16)) \n",
    "        test_y = np.append(test_y, int(test.iloc[i]['emotion']))\n",
    "    print(\"Testing data ready\")\n",
    "    \n",
    "    del(test)\n",
    "    \n",
    "    for i in range(len(val)):\n",
    "        val_x = np.append(val_x, np.array((val.iloc[i]['pixels']).split(\" \"), dtype=np.int16)) \n",
    "        val_y = np.append(val_y, int(val.iloc[i]['emotion']))\n",
    "    print(\"Validation data ready\")\n",
    "    \n",
    "    del(val)\n",
    "    \n",
    "    return (train_x,train_y), (test_x,test_y), (val_x, val_y)"
   ]
  }
 ],
 "metadata": {
  "kernelspec": {
   "display_name": "Python 3",
   "language": "python",
   "name": "python3"
  },
  "language_info": {
   "codemirror_mode": {
    "name": "ipython",
    "version": 3
   },
   "file_extension": ".py",
   "mimetype": "text/x-python",
   "name": "python",
   "nbconvert_exporter": "python",
   "pygments_lexer": "ipython3",
   "version": "3.6.2"
  }
 },
 "nbformat": 4,
 "nbformat_minor": 2
}
